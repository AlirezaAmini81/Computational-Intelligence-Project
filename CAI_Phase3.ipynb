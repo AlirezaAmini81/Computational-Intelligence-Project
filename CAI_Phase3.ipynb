{
  "cells": [
    {
      "cell_type": "code",
      "execution_count": null,
      "metadata": {
        "id": "hW917JpgBCWm"
      },
      "outputs": [],
      "source": [
        "import pickle, os\n",
        "from sklearn.cluster import KMeans\n",
        "import numpy as np\n",
        "from sklearn.metrics import accuracy_score\n",
        "import matplotlib.pyplot as plt\n",
        "from sklearn.metrics import rand_score"
      ]
    },
    {
      "cell_type": "code",
      "execution_count": null,
      "metadata": {
        "colab": {
          "base_uri": "https://localhost:8080/"
        },
        "id": "YvzzALXDCtL3",
        "outputId": "4a84badf-ee87-419b-b297-a442175b00ac"
      },
      "outputs": [
        {
          "output_type": "stream",
          "name": "stdout",
          "text": [
            "Mounted at /content/drive\n"
          ]
        }
      ],
      "source": [
        "from google.colab import drive\n",
        "drive.mount('/content/drive')"
      ]
    },
    {
      "cell_type": "markdown",
      "metadata": {
        "id": "pNSoMrWzBCWp"
      },
      "source": [
        "## Load and Prepare Data"
      ]
    },
    {
      "cell_type": "code",
      "execution_count": null,
      "metadata": {
        "id": "FSSJtFv9BCWq"
      },
      "outputs": [],
      "source": [
        "def load_dataset(name_file):\n",
        "\n",
        "    desired_directory = '/content/drive/MyDrive/CI_Dataset' # Replace with your desired directory path\n",
        "\n",
        "    file_path = os.path.join(desired_directory, name_file)\n",
        "\n",
        "    with open(file_path, 'rb') as f:\n",
        "        data_dict = pickle.load(f)\n",
        "\n",
        "    return data_dict"
      ]
    },
    {
      "cell_type": "code",
      "execution_count": null,
      "metadata": {
        "colab": {
          "base_uri": "https://localhost:8080/"
        },
        "id": "2kSNP_dDBCWr",
        "outputId": "ee6848e5-60ca-484d-ec66-caab546189eb"
      },
      "outputs": [
        {
          "output_type": "stream",
          "name": "stdout",
          "text": [
            "x_train:(4094, 512), y_train:(4094,)\n",
            "x_test:(4095, 512), y_test:(4095,)\n"
          ]
        }
      ],
      "source": [
        "loaders_dict = load_dataset(f\"dataset-flowers102-features.pkl\")\n",
        "x_train = loaders_dict[\"x_train\"]\n",
        "x_test = loaders_dict[\"x_test\"]\n",
        "y_train = loaders_dict[\"y_train\"]\n",
        "y_test = loaders_dict[\"y_test\"]\n",
        "print(f\"x_train:{x_train.shape}, y_train:{y_train.shape}\")\n",
        "print(f\"x_test:{x_test.shape}, y_test:{y_test.shape}\")"
      ]
    },
    {
      "cell_type": "markdown",
      "metadata": {
        "id": "XVcCMRg_BCWs"
      },
      "source": [
        "## K-Means Clustering"
      ]
    },
    {
      "cell_type": "code",
      "execution_count": null,
      "metadata": {
        "colab": {
          "base_uri": "https://localhost:8080/"
        },
        "id": "1L7rXbJZBCWs",
        "outputId": "44202ebd-369a-44a8-8e85-efe6233c9200"
      },
      "outputs": [
        {
          "output_type": "stream",
          "name": "stderr",
          "text": [
            "/usr/local/lib/python3.10/dist-packages/sklearn/cluster/_kmeans.py:870: FutureWarning: The default value of `n_init` will change from 10 to 'auto' in 1.4. Set the value of `n_init` explicitly to suppress the warning\n",
            "  warnings.warn(\n"
          ]
        }
      ],
      "source": [
        "# k = 50\n",
        "kmeans = KMeans(n_clusters=50).fit(x_train)\n",
        "# print(kmeans.labels_.shape)\n",
        "# x_train_labels = clustering.labels_\n",
        "# x_train_centers = clustering.cluster_centers_"
      ]
    },
    {
      "cell_type": "markdown",
      "metadata": {
        "id": "6oKSPu1bBCWs"
      },
      "source": [
        "## KNN"
      ]
    },
    {
      "cell_type": "code",
      "execution_count": null,
      "metadata": {
        "id": "1HUyx-9qBCWt"
      },
      "outputs": [],
      "source": [
        "def knn_test(test_datapoint, compare_datapoints, compare_labels, k):\n",
        "    distances = np.sum((test_datapoint - compare_datapoints)**2, axis=1)\n",
        "    distances_index = np.argsort(distances)\n",
        "    k_nearest_neighbor = distances_index[:k]\n",
        "    k_nearest_neighbor_labels = compare_labels[k_nearest_neighbor]\n",
        "    counts = np.bincount(k_nearest_neighbor_labels)\n",
        "    return np.argmax(counts)"
      ]
    },
    {
      "cell_type": "code",
      "execution_count": null,
      "metadata": {
        "id": "H3lq54SUBCWt"
      },
      "outputs": [],
      "source": [
        "def cluster_select(datapoint, clustering, k):\n",
        "    cluster_centers = clustering.cluster_centers_\n",
        "    distances = np.sum((datapoint - cluster_centers)**2, axis=1)\n",
        "    distances_index = np.argsort(distances)\n",
        "    k_nearest_clusters = clustering.predict(cluster_centers[distances_index[:k]])\n",
        "    # print(k_nearest_clusters)\n",
        "    return k_nearest_clusters"
      ]
    },
    {
      "cell_type": "markdown",
      "metadata": {
        "id": "Hda0SjInBCWt"
      },
      "source": [
        "## Inference"
      ]
    },
    {
      "cell_type": "code",
      "execution_count": null,
      "metadata": {
        "id": "jkBonA71BCWu"
      },
      "outputs": [],
      "source": [
        "def inference(datapoint, train_datapoints, train_labels, clustering, k1, k2, true_label):\n",
        "    cluster_labels = clustering.labels_\n",
        "    cluster_index = cluster_select(datapoint, clustering, k1)\n",
        "    cluster_mask = np.isin(cluster_labels, cluster_index)\n",
        "    selected_data = train_datapoints[cluster_mask]\n",
        "    selected_labels = train_labels[cluster_mask]\n",
        "    label = knn_test(datapoint, selected_data, selected_labels, k2)\n",
        "    calculate_purity(cluster_index, label, clustering, train_labels, true_label)\n",
        "\n",
        "    return label"
      ]
    },
    {
      "cell_type": "code",
      "execution_count": null,
      "metadata": {
        "id": "sYyWMeRmBCWu"
      },
      "outputs": [],
      "source": [
        "y_pred = []\n",
        "\n",
        "for test_datapoint in x_test:\n",
        "    y_pred.append(inference(test_datapoint, x_train, y_train, kmeans, 4, 5))\n",
        "\n",
        "scores = accuracy_score(y_test, np.array(y_pred))*100 - 4*0.2\n",
        "\n",
        "print(accuracy_score(y_test, np.array(y_pred))* 100, scores)"
      ]
    },
    {
      "cell_type": "markdown",
      "metadata": {
        "id": "C4u2dWm2BCWu"
      },
      "source": [
        "## Find Optimal Values"
      ]
    },
    {
      "cell_type": "code",
      "execution_count": null,
      "metadata": {
        "id": "iCS726utBCWu"
      },
      "outputs": [],
      "source": [
        "clsuters_range = list(range(1,50))\n",
        "knn_range = list(range(1,15,2))\n",
        "scores = np.zeros((len(clsuters_range), len(knn_range)))\n",
        "\n",
        "for i in range(len(clsuters_range)):\n",
        "    for j in range(len(knn_range)):\n",
        "        y_pred = []\n",
        "\n",
        "        for test_datapoint in x_test:\n",
        "            y_pred.append(inference(test_datapoint, x_train, y_train, kmeans, clsuters_range[i], knn_range[j]))\n",
        "\n",
        "        scores[i][j] = accuracy_score(y_test, np.array(y_pred))*100 - clsuters_range[i]*0.2"
      ]
    },
    {
      "cell_type": "code",
      "execution_count": null,
      "metadata": {
        "id": "H38AB4bhBCWv"
      },
      "outputs": [],
      "source": [
        "print(scores)\n",
        "max_index = np.unravel_index(np.argmax(scores, axis=None), scores.shape)\n",
        "print(clsuters_range[max_index[0]], knn_range[max_index[1]])"
      ]
    },
    {
      "cell_type": "markdown",
      "metadata": {
        "id": "WHEpZaEw0x2-"
      },
      "source": [
        "# Correlation between KNN Labels and Cluster Labels"
      ]
    },
    {
      "cell_type": "code",
      "execution_count": null,
      "metadata": {
        "id": "hzmNgEHRK0mW"
      },
      "outputs": [],
      "source": [
        "def calculate_purity(cluster_index, label, clustering, train_labels, true_label):\n",
        "  cluster_labels = clustering.labels_\n",
        "  for index in cluster_index:\n",
        "    cluster_mask = np.isin(cluster_labels, index)\n",
        "    cluster =  train_labels[cluster_mask]\n",
        "    pred = train_labels[cluster_mask & (train_labels == label)]\n",
        "    true = train_labels[cluster_mask & (train_labels == true_label)]\n",
        "    pred_purity = len(pred) / len(cluster) * 100\n",
        "    true_purity = len(true) / len(cluster) * 100\n",
        "    print(\"Cluster {} : purity of the predicted label: {}\".format(index, pred_purity))\n",
        "    print(\"Cluster {} : purity of the true label: {}\".format(index, true_purity))\n",
        "\n",
        "  cluster_mask = np.isin(cluster_labels, cluster_index)\n",
        "  cluster =  train_labels[cluster_mask]\n",
        "  pred = train_labels[cluster_mask & (train_labels == label)]\n",
        "  true = train_labels[cluster_mask & (train_labels == true_label)]\n",
        "  pred_purity = len(pred) / len(cluster) * 100\n",
        "  true_purity = len(true) / len(cluster) * 100\n",
        "  print(\"Integrated Cluster : purity of the predicted label : {}\".format(pred_purity))\n",
        "  print(\"Integrated Cluster : purity of the true label: {}\".format(true_purity))"
      ]
    },
    {
      "cell_type": "code",
      "execution_count": null,
      "metadata": {
        "colab": {
          "background_save": true,
          "base_uri": "https://localhost:8080/"
        },
        "id": "4JS0QdQkcv6n",
        "outputId": "3ec92ef6-6d54-424b-e3c7-08f76c761cf1"
      },
      "outputs": [
        {
          "name": "stdout",
          "output_type": "stream",
          "text": [
            "Misclassified Data:\n",
            "Cluster 6 : purity of the predicted label: 25.405405405405407\n",
            "Cluster 6 : purity of the true label: 25.405405405405407\n",
            "Cluster 1 : purity of the predicted label: 12.903225806451612\n",
            "Cluster 1 : purity of the true label: 12.903225806451612\n",
            "Cluster 11 : purity of the predicted label: 6.25\n",
            "Cluster 11 : purity of the true label: 6.25\n",
            "Cluster 15 : purity of the predicted label: 1.2658227848101267\n",
            "Cluster 15 : purity of the true label: 1.2658227848101267\n",
            "Integrated Cluster : purity of the predicted label : 13.953488372093023\n",
            "Integrated Cluster : purity of the true label: 13.953488372093023\n",
            "Correctly Classified Data:\n",
            "Cluster 9 : purity of the predicted label: 81.1881188118812\n",
            "Cluster 9 : purity of the true label: 81.1881188118812\n",
            "Cluster 48 : purity of the predicted label: 3.9473684210526314\n",
            "Cluster 48 : purity of the true label: 3.9473684210526314\n",
            "Cluster 42 : purity of the predicted label: 2.3622047244094486\n",
            "Cluster 42 : purity of the true label: 2.3622047244094486\n",
            "Cluster 31 : purity of the predicted label: 0.0\n",
            "Cluster 31 : purity of the true label: 0.0\n",
            "Integrated Cluster : purity of the predicted label : 23.71967654986523\n",
            "Integrated Cluster : purity of the true label: 23.71967654986523\n"
          ]
        }
      ],
      "source": [
        "y_pred = []\n",
        "k1_opt = 4\n",
        "k2_opt = 5\n",
        "\n",
        "# misclassified\n",
        "print(\"Misclassified Data:\")\n",
        "y_pred.append(inference(x_test[27], x_train, y_train, kmeans, k1_opt, k2_opt, y_test[27]))\n",
        "\n",
        "# correctly classified\n",
        "print(\"Correctly Classified Data:\")\n",
        "\n",
        "y_pred.append(inference(x_test[9], x_train, y_train, kmeans, k1_opt, k2_opt, y_test[9]))"
      ]
    },
    {
      "cell_type": "markdown",
      "metadata": {
        "id": "JnT1nJ3b_vIT"
      },
      "source": [
        "#K-means Evaluation"
      ]
    },
    {
      "cell_type": "code",
      "execution_count": null,
      "metadata": {
        "id": "9IOtSrRfpp1n"
      },
      "outputs": [],
      "source": [
        "def purity_score(y_true, y_pred):\n",
        "    cluster_labels = np.unique(y_pred)\n",
        "    max_labels = np.zeros_like(cluster_labels)\n",
        "    for i in range(len(cluster_labels)):\n",
        "        mask = (y_pred == cluster_labels[i])\n",
        "        max_labels[i] = np.argmax(np.bincount(y_true[mask]))\n",
        "    purity = np.sum(y_true == max_labels[y_pred]) / len(y_true)\n",
        "    return purity"
      ]
    },
    {
      "cell_type": "code",
      "execution_count": null,
      "metadata": {
        "colab": {
          "base_uri": "https://localhost:8080/"
        },
        "id": "4egQhfa3_19L",
        "outputId": "72ab25a5-9847-46c7-f526-251fc93df842"
      },
      "outputs": [
        {
          "output_type": "stream",
          "name": "stdout",
          "text": [
            "Rand Index: 0.9801593889790748\n",
            "Purity: 0.5288226673180264\n"
          ]
        }
      ],
      "source": [
        "# rand index\n",
        "y_pred = kmeans.labels_\n",
        "rand_index = rand_score(y_train, y_pred)\n",
        "print(\"Rand Index: {}\".format(rand_index))\n",
        "\n",
        "# purity\n",
        "purity = purity_score(y_train, y_pred)\n",
        "print(\"Purity: {}\".format(purity))"
      ]
    }
  ],
  "metadata": {
    "colab": {
      "provenance": []
    },
    "kaggle": {
      "accelerator": "none",
      "dataSources": [
        {
          "datasetId": 4213424,
          "sourceId": 7268585,
          "sourceType": "datasetVersion"
        }
      ],
      "dockerImageVersionId": 30626,
      "isGpuEnabled": false,
      "isInternetEnabled": true,
      "language": "python",
      "sourceType": "notebook"
    },
    "kernelspec": {
      "display_name": "Python 3",
      "language": "python",
      "name": "python3"
    },
    "language_info": {
      "codemirror_mode": {
        "name": "ipython",
        "version": 3
      },
      "file_extension": ".py",
      "mimetype": "text/x-python",
      "name": "python",
      "nbconvert_exporter": "python",
      "pygments_lexer": "ipython3",
      "version": "3.10.12"
    }
  },
  "nbformat": 4,
  "nbformat_minor": 0
}