{
  "nbformat": 4,
  "nbformat_minor": 0,
  "metadata": {
    "colab": {
      "provenance": [],
      "gpuType": "T4",
      "toc_visible": true
    },
    "kernelspec": {
      "name": "python3",
      "display_name": "Python 3"
    },
    "language_info": {
      "name": "python"
    },
    "accelerator": "GPU"
  },
  "cells": [
    {
      "cell_type": "code",
      "source": [
        "import utils\n",
        "import torch\n",
        "import torch\n",
        "import torchvision\n",
        "import torch.nn as nn\n",
        "import os\n",
        "from torch.utils.data import DataLoader\n",
        "import torch.optim as optim\n",
        "from torch.functional import F\n",
        "from tqdm import trange\n",
        "import numpy as np\n",
        "import matplotlib.pyplot as plt"
      ],
      "metadata": {
        "id": "mQ5HZBiFWAQv"
      },
      "execution_count": null,
      "outputs": []
    },
    {
      "cell_type": "code",
      "execution_count": null,
      "metadata": {
        "colab": {
          "base_uri": "https://localhost:8080/"
        },
        "id": "ZlHmbjVlV09X",
        "outputId": "0461dee6-45c7-4cbd-ad95-65e694c741c3"
      },
      "outputs": [
        {
          "output_type": "stream",
          "name": "stdout",
          "text": [
            "Mounted at /content/drive\n"
          ]
        }
      ],
      "source": [
        "from google.colab import drive\n",
        "drive.mount('/content/drive')"
      ]
    },
    {
      "cell_type": "code",
      "source": [
        "%cd \"/content/drive/MyDrive/CAI/Phase 4/\""
      ],
      "metadata": {
        "colab": {
          "base_uri": "https://localhost:8080/"
        },
        "id": "ddp-QvWGXGPn",
        "outputId": "c769b058-3923-4b94-c1f3-5319d66d683e"
      },
      "execution_count": null,
      "outputs": [
        {
          "output_type": "stream",
          "name": "stdout",
          "text": [
            "/content/drive/MyDrive/CAI/Phase 4\n"
          ]
        }
      ]
    },
    {
      "cell_type": "code",
      "source": [
        "A_train_dl, A_test_dl, B_train_dl, B_test_dl, test_all = utils.get_oxford_splits(batch_size = 64)"
      ],
      "metadata": {
        "colab": {
          "base_uri": "https://localhost:8080/"
        },
        "id": "Xaoq3ftqWxr0",
        "outputId": "99cec881-04f9-4f7f-beaf-7b1d5d106293"
      },
      "execution_count": null,
      "outputs": [
        {
          "output_type": "stream",
          "name": "stdout",
          "text": [
            "Downloading https://thor.robots.ox.ac.uk/datasets/flowers-102/102flowers.tgz to /content/data/flowers-102/102flowers.tgz\n"
          ]
        },
        {
          "output_type": "stream",
          "name": "stderr",
          "text": [
            "100%|██████████| 344862509/344862509 [00:12<00:00, 26776925.77it/s]\n"
          ]
        },
        {
          "output_type": "stream",
          "name": "stdout",
          "text": [
            "Extracting /content/data/flowers-102/102flowers.tgz to /content/data/flowers-102\n",
            "Downloading https://thor.robots.ox.ac.uk/datasets/flowers-102/imagelabels.mat to /content/data/flowers-102/imagelabels.mat\n"
          ]
        },
        {
          "output_type": "stream",
          "name": "stderr",
          "text": [
            "100%|██████████| 502/502 [00:00<00:00, 517077.75it/s]\n"
          ]
        },
        {
          "output_type": "stream",
          "name": "stdout",
          "text": [
            "Downloading https://thor.robots.ox.ac.uk/datasets/flowers-102/setid.mat to /content/data/flowers-102/setid.mat\n"
          ]
        },
        {
          "output_type": "stream",
          "name": "stderr",
          "text": [
            "100%|██████████| 14989/14989 [00:00<00:00, 10514872.50it/s]\n"
          ]
        }
      ]
    },
    {
      "cell_type": "code",
      "source": [
        "len(A_train_dl.dataset), len(A_test_dl.dataset)"
      ],
      "metadata": {
        "colab": {
          "base_uri": "https://localhost:8080/"
        },
        "id": "NCPrOd4mXTjn",
        "outputId": "3c7bd5d9-6b0f-43bf-9a42-a912fa3504a3"
      },
      "execution_count": null,
      "outputs": [
        {
          "output_type": "execute_result",
          "data": {
            "text/plain": [
              "(4617, 1538)"
            ]
          },
          "metadata": {},
          "execution_count": 7
        }
      ]
    },
    {
      "cell_type": "code",
      "source": [
        "len(B_train_dl.dataset), len(B_test_dl.dataset)"
      ],
      "metadata": {
        "colab": {
          "base_uri": "https://localhost:8080/"
        },
        "id": "PdHB9U0MXu49",
        "outputId": "72b25c4f-6e4b-4cb2-b84c-2efb5c6a97d5"
      },
      "execution_count": null,
      "outputs": [
        {
          "output_type": "execute_result",
          "data": {
            "text/plain": [
              "(100, 518)"
            ]
          },
          "metadata": {},
          "execution_count": 8
        }
      ]
    },
    {
      "cell_type": "code",
      "source": [
        "len(test_all.dataset)"
      ],
      "metadata": {
        "colab": {
          "base_uri": "https://localhost:8080/"
        },
        "id": "c47deozOXyGl",
        "outputId": "17992a1b-b348-45fa-da81-7a624ebda8f2"
      },
      "execution_count": null,
      "outputs": [
        {
          "output_type": "execute_result",
          "data": {
            "text/plain": [
              "2056"
            ]
          },
          "metadata": {},
          "execution_count": 9
        }
      ]
    },
    {
      "cell_type": "markdown",
      "source": [
        "# Model"
      ],
      "metadata": {
        "id": "CDYOvGSDDyAn"
      }
    },
    {
      "cell_type": "code",
      "source": [
        "class ConvBlock(nn.Module):\n",
        "  def __init__(self, in_channels, out_channels, kernel_size, stride, padding):\n",
        "    super(ConvBlock, self).__init__()\n",
        "    self.conv = nn.Conv2d(in_channels, out_channels, kernel_size, stride, padding)\n",
        "    self.bn = nn.BatchNorm2d(out_channels)\n",
        "    self.relu = nn.ReLU()\n",
        "\n",
        "  def forward(self, x):\n",
        "    x = self.conv(x)\n",
        "    x = self.bn(x)\n",
        "    x = self.relu(x)\n",
        "    return x"
      ],
      "metadata": {
        "id": "OjGYhnc7TJ-P"
      },
      "execution_count": null,
      "outputs": []
    },
    {
      "cell_type": "code",
      "source": [
        "class model(nn.Module):\n",
        "  def __init__(self):\n",
        "    super(model, self).__init__()\n",
        "    self.conv1 = ConvBlock(3, 64, 3, 1, 1)\n",
        "    self.conv2 = nn.Sequential(\n",
        "        *([ConvBlock(64, 64, 3, 1, 1) for _ in range(4)])\n",
        "    )\n",
        "    self.pool1 = nn.MaxPool2d(kernel_size=2, stride=2)\n",
        "    self.conv3 = nn.Sequential(\n",
        "        ConvBlock(64, 96, 3, 1, 1),\n",
        "        ConvBlock(96, 96, 3, 1, 1),\n",
        "        ConvBlock(96, 96, 3, 1, 1),\n",
        "        ConvBlock(96, 96, 3, 1, 1),\n",
        "    )\n",
        "    self.pool2 = nn.MaxPool2d(kernel_size=2, stride=2)\n",
        "    self.conv4 = nn.Sequential(\n",
        "        ConvBlock(96, 128, 3, 1, 1),\n",
        "        ConvBlock(128, 128, 3, 1, 1),\n",
        "        ConvBlock(128, 128, 3, 1, 1),\n",
        "        ConvBlock(128, 128, 3, 1, 1),\n",
        "    )\n",
        "    self.pool3 = nn.MaxPool2d(kernel_size=2, stride=2)\n",
        "    self.conv5 = nn.Sequential(\n",
        "        ConvBlock(128, 256, 3, 1, 1),\n",
        "        ConvBlock(256, 256, 3, 1, 1),\n",
        "        ConvBlock(256, 256, 3, 1, 1),\n",
        "        ConvBlock(256, 256, 3, 1, 1),\n",
        "    )\n",
        "    self.pool4 = nn.MaxPool2d(kernel_size=2, stride=2)\n",
        "    self.flatten = nn.Flatten()\n",
        "    self.fc = nn.Linear(256 * 4 * 4, 80)\n",
        "\n",
        "  def forward(self, x):\n",
        "    x0 = self.conv1(x)\n",
        "    x1 = self.conv2(x0)\n",
        "    x2 = self.pool1(x1)\n",
        "    x3 = self.conv3(x2)\n",
        "    x4 = self.pool2(x3)\n",
        "    x5 = self.conv4(x4)\n",
        "    x6 = self.pool3(x5)\n",
        "    x7 = self.conv5(x6)\n",
        "    x8 = self.pool4(x7)\n",
        "    x9 = self.flatten(x8)\n",
        "    x10 = self.fc(x9)\n",
        "    return x10"
      ],
      "metadata": {
        "id": "GKcKplOinusW"
      },
      "execution_count": null,
      "outputs": []
    },
    {
      "cell_type": "code",
      "source": [
        "model = model()\n",
        "device = torch.device(\"cuda\" if torch.cuda.is_available() else \"cpu\")\n",
        "print(device)\n",
        "model.to(device)\n",
        "\n",
        "# Define loss function and optimizer\n",
        "criterion = nn.CrossEntropyLoss()\n",
        "optimizer = optim.Adam(model.parameters(), lr=0.0001)\n",
        "print(model)"
      ],
      "metadata": {
        "colab": {
          "base_uri": "https://localhost:8080/"
        },
        "id": "iq53VM1wE71a",
        "outputId": "e80624cd-531f-41e9-a801-77b182dafb00"
      },
      "execution_count": null,
      "outputs": [
        {
          "output_type": "stream",
          "name": "stdout",
          "text": [
            "cuda\n",
            "model(\n",
            "  (conv1): ConvBlock(\n",
            "    (conv): Conv2d(3, 64, kernel_size=(3, 3), stride=(1, 1), padding=(1, 1))\n",
            "    (bn): BatchNorm2d(64, eps=1e-05, momentum=0.1, affine=True, track_running_stats=True)\n",
            "    (relu): ReLU()\n",
            "  )\n",
            "  (conv2): Sequential(\n",
            "    (0): ConvBlock(\n",
            "      (conv): Conv2d(64, 64, kernel_size=(3, 3), stride=(1, 1), padding=(1, 1))\n",
            "      (bn): BatchNorm2d(64, eps=1e-05, momentum=0.1, affine=True, track_running_stats=True)\n",
            "      (relu): ReLU()\n",
            "    )\n",
            "    (1): ConvBlock(\n",
            "      (conv): Conv2d(64, 64, kernel_size=(3, 3), stride=(1, 1), padding=(1, 1))\n",
            "      (bn): BatchNorm2d(64, eps=1e-05, momentum=0.1, affine=True, track_running_stats=True)\n",
            "      (relu): ReLU()\n",
            "    )\n",
            "    (2): ConvBlock(\n",
            "      (conv): Conv2d(64, 64, kernel_size=(3, 3), stride=(1, 1), padding=(1, 1))\n",
            "      (bn): BatchNorm2d(64, eps=1e-05, momentum=0.1, affine=True, track_running_stats=True)\n",
            "      (relu): ReLU()\n",
            "    )\n",
            "    (3): ConvBlock(\n",
            "      (conv): Conv2d(64, 64, kernel_size=(3, 3), stride=(1, 1), padding=(1, 1))\n",
            "      (bn): BatchNorm2d(64, eps=1e-05, momentum=0.1, affine=True, track_running_stats=True)\n",
            "      (relu): ReLU()\n",
            "    )\n",
            "  )\n",
            "  (pool1): MaxPool2d(kernel_size=2, stride=2, padding=0, dilation=1, ceil_mode=False)\n",
            "  (conv3): Sequential(\n",
            "    (0): ConvBlock(\n",
            "      (conv): Conv2d(64, 96, kernel_size=(3, 3), stride=(1, 1), padding=(1, 1))\n",
            "      (bn): BatchNorm2d(96, eps=1e-05, momentum=0.1, affine=True, track_running_stats=True)\n",
            "      (relu): ReLU()\n",
            "    )\n",
            "    (1): ConvBlock(\n",
            "      (conv): Conv2d(96, 96, kernel_size=(3, 3), stride=(1, 1), padding=(1, 1))\n",
            "      (bn): BatchNorm2d(96, eps=1e-05, momentum=0.1, affine=True, track_running_stats=True)\n",
            "      (relu): ReLU()\n",
            "    )\n",
            "    (2): ConvBlock(\n",
            "      (conv): Conv2d(96, 96, kernel_size=(3, 3), stride=(1, 1), padding=(1, 1))\n",
            "      (bn): BatchNorm2d(96, eps=1e-05, momentum=0.1, affine=True, track_running_stats=True)\n",
            "      (relu): ReLU()\n",
            "    )\n",
            "    (3): ConvBlock(\n",
            "      (conv): Conv2d(96, 96, kernel_size=(3, 3), stride=(1, 1), padding=(1, 1))\n",
            "      (bn): BatchNorm2d(96, eps=1e-05, momentum=0.1, affine=True, track_running_stats=True)\n",
            "      (relu): ReLU()\n",
            "    )\n",
            "  )\n",
            "  (pool2): MaxPool2d(kernel_size=2, stride=2, padding=0, dilation=1, ceil_mode=False)\n",
            "  (conv4): Sequential(\n",
            "    (0): ConvBlock(\n",
            "      (conv): Conv2d(96, 128, kernel_size=(3, 3), stride=(1, 1), padding=(1, 1))\n",
            "      (bn): BatchNorm2d(128, eps=1e-05, momentum=0.1, affine=True, track_running_stats=True)\n",
            "      (relu): ReLU()\n",
            "    )\n",
            "    (1): ConvBlock(\n",
            "      (conv): Conv2d(128, 128, kernel_size=(3, 3), stride=(1, 1), padding=(1, 1))\n",
            "      (bn): BatchNorm2d(128, eps=1e-05, momentum=0.1, affine=True, track_running_stats=True)\n",
            "      (relu): ReLU()\n",
            "    )\n",
            "    (2): ConvBlock(\n",
            "      (conv): Conv2d(128, 128, kernel_size=(3, 3), stride=(1, 1), padding=(1, 1))\n",
            "      (bn): BatchNorm2d(128, eps=1e-05, momentum=0.1, affine=True, track_running_stats=True)\n",
            "      (relu): ReLU()\n",
            "    )\n",
            "    (3): ConvBlock(\n",
            "      (conv): Conv2d(128, 128, kernel_size=(3, 3), stride=(1, 1), padding=(1, 1))\n",
            "      (bn): BatchNorm2d(128, eps=1e-05, momentum=0.1, affine=True, track_running_stats=True)\n",
            "      (relu): ReLU()\n",
            "    )\n",
            "  )\n",
            "  (pool3): MaxPool2d(kernel_size=2, stride=2, padding=0, dilation=1, ceil_mode=False)\n",
            "  (conv5): Sequential(\n",
            "    (0): ConvBlock(\n",
            "      (conv): Conv2d(128, 256, kernel_size=(3, 3), stride=(1, 1), padding=(1, 1))\n",
            "      (bn): BatchNorm2d(256, eps=1e-05, momentum=0.1, affine=True, track_running_stats=True)\n",
            "      (relu): ReLU()\n",
            "    )\n",
            "    (1): ConvBlock(\n",
            "      (conv): Conv2d(256, 256, kernel_size=(3, 3), stride=(1, 1), padding=(1, 1))\n",
            "      (bn): BatchNorm2d(256, eps=1e-05, momentum=0.1, affine=True, track_running_stats=True)\n",
            "      (relu): ReLU()\n",
            "    )\n",
            "    (2): ConvBlock(\n",
            "      (conv): Conv2d(256, 256, kernel_size=(3, 3), stride=(1, 1), padding=(1, 1))\n",
            "      (bn): BatchNorm2d(256, eps=1e-05, momentum=0.1, affine=True, track_running_stats=True)\n",
            "      (relu): ReLU()\n",
            "    )\n",
            "    (3): ConvBlock(\n",
            "      (conv): Conv2d(256, 256, kernel_size=(3, 3), stride=(1, 1), padding=(1, 1))\n",
            "      (bn): BatchNorm2d(256, eps=1e-05, momentum=0.1, affine=True, track_running_stats=True)\n",
            "      (relu): ReLU()\n",
            "    )\n",
            "  )\n",
            "  (pool4): MaxPool2d(kernel_size=2, stride=2, padding=0, dilation=1, ceil_mode=False)\n",
            "  (flatten): Flatten(start_dim=1, end_dim=-1)\n",
            "  (fc): Linear(in_features=4096, out_features=80, bias=True)\n",
            ")\n"
          ]
        }
      ]
    },
    {
      "cell_type": "markdown",
      "source": [
        "# Train - Test"
      ],
      "metadata": {
        "id": "5MSpV4_wxuHP"
      }
    },
    {
      "cell_type": "code",
      "source": [
        "num_batches = len(A_train_dl)\n",
        "num_samples = len(A_train_dl.dataset)\n",
        "acc_history = {'train': [], 'test': []}\n",
        "loss_history = {'train': [], 'test': []}\n",
        "min_delta = 0.005\n",
        "patience = 6\n",
        "best_loss = float('inf')\n",
        "best_accuracy = 0\n",
        "\n",
        "counter = 0\n",
        "\n",
        "for epoch in range(80):\n",
        "    print(\"Epoch\", str(epoch) + \"/100\")\n",
        "    # Train\n",
        "    model_save_dir = 'saved_models'\n",
        "    os.makedirs(model_save_dir, exist_ok=True)\n",
        "    model.train()\n",
        "    correct = 0\n",
        "    total_loss = 0.0\n",
        "    for (data, target) in A_train_dl:\n",
        "        data = data.to(device)\n",
        "        target = target.to(device)  # Move target to the same device as data\n",
        "\n",
        "        output = model(data)\n",
        "        loss = criterion(output, target)\n",
        "        loss.backward()\n",
        "        optimizer.step()\n",
        "        optimizer.zero_grad()\n",
        "        _, predictions = torch.max(output, dim=1)\n",
        "        correct += torch.sum(predictions == target)\n",
        "        total_loss += loss.item()\n",
        "    epoch_accuracy = (correct / num_samples) * 100\n",
        "    epoch_loss = total_loss / num_batches\n",
        "    acc_history['train'].append(epoch_accuracy)\n",
        "    loss_history['train'].append(epoch_loss)\n",
        "    print('Train - Accuracy:', str(epoch_accuracy.item()) + ', Loss:' , epoch_loss)\n",
        "\n",
        "    #Test\n",
        "    model.eval()\n",
        "    total = 0\n",
        "    correct = 0\n",
        "    total_loss += 0.0\n",
        "    y_true = []\n",
        "    y_pred = []\n",
        "    with torch.no_grad():\n",
        "        for data, target in A_test_dl:\n",
        "            data = data.to(device)\n",
        "            target = target.to(device)  # Move target to the same device as data\n",
        "            output = model(data)\n",
        "            _, predicted = torch.max(output.data, 1)\n",
        "            total += target.size(0)\n",
        "            correct += (predicted == target).sum().item()\n",
        "            total_loss += loss.item()\n",
        "            y_true.extend(target.tolist())\n",
        "            y_pred.extend(predicted.tolist())\n",
        "\n",
        "    accuracy = 100 * correct / total\n",
        "    epoch_loss = total_loss / num_batches\n",
        "    acc_history['test'].append(accuracy)\n",
        "    loss_history['test'].append(epoch_loss)\n",
        "    print('Test - Accuracy:', str(accuracy) + ', Loss:' , epoch_loss)\n",
        "    print()\n",
        "\n",
        "    if accuracy > best_accuracy:\n",
        "                best_accuracy = accuracy\n",
        "                model_checkpoint = {\n",
        "                    'epoch': epoch,\n",
        "                    'model_state_dict': model.state_dict(),\n",
        "                    'optimizer_state_dict': optimizer.state_dict(),\n",
        "                    'accuracy': accuracy,\n",
        "                    'loss': epoch_loss\n",
        "                }\n",
        "                model_save_path = os.path.join(model_save_dir, f'model_best_accuracy.pt')\n",
        "                torch.save(model_checkpoint, model_save_path)"
      ],
      "metadata": {
        "id": "AZ0OGkz-sHVH",
        "colab": {
          "base_uri": "https://localhost:8080/"
        },
        "outputId": "e8d8b92c-5769-4256-f0b9-c04149a1fdba"
      },
      "execution_count": null,
      "outputs": [
        {
          "output_type": "stream",
          "name": "stdout",
          "text": [
            "Epoch 0/100\n",
            "Train - Accuracy: 11.999134063720703, Loss: 3.7827264348121536\n",
            "Test - Accuracy: 19.4408322496749, Loss: 4.836926597438446\n",
            "\n",
            "Epoch 1/100\n",
            "Train - Accuracy: 31.817197799682617, Loss: 2.7086928250038462\n",
            "Test - Accuracy: 37.711313394018205, Loss: 3.5281810825818205\n",
            "\n",
            "Epoch 2/100\n",
            "Train - Accuracy: 45.614036560058594, Loss: 2.0675328937295365\n",
            "Test - Accuracy: 45.51365409622887, Loss: 2.7846204532335883\n",
            "\n",
            "Epoch 3/100\n",
            "Train - Accuracy: 57.22330856323242, Loss: 1.6215204490374213\n",
            "Test - Accuracy: 44.993498049414825, Loss: 2.1183680704195207\n",
            "\n",
            "Epoch 4/100\n",
            "Train - Accuracy: 65.99523162841797, Loss: 1.2682282745021662\n",
            "Test - Accuracy: 57.607282184655396, Loss: 1.725221331805399\n",
            "\n",
            "Epoch 5/100\n",
            "Train - Accuracy: 75.67684936523438, Loss: 0.9676973991198082\n",
            "Test - Accuracy: 55.851755526657996, Loss: 1.2042102013548759\n",
            "\n",
            "Epoch 6/100\n",
            "Train - Accuracy: 82.6294174194336, Loss: 0.7399126454575421\n",
            "Test - Accuracy: 60.33810143042913, Loss: 1.0117371172121126\n",
            "\n",
            "Epoch 7/100\n",
            "Train - Accuracy: 87.84925079345703, Loss: 0.568645714080497\n",
            "Test - Accuracy: 62.158647594278285, Loss: 0.9887960789954826\n",
            "\n",
            "Epoch 8/100\n",
            "Train - Accuracy: 93.30734252929688, Loss: 0.39605504886744775\n",
            "Test - Accuracy: 64.10923276983095, Loss: 0.623928137429773\n",
            "\n",
            "Epoch 9/100\n",
            "Train - Accuracy: 95.75482177734375, Loss: 0.2901498209940244\n",
            "Test - Accuracy: 62.02860858257477, Loss: 0.394562645317757\n",
            "\n",
            "Epoch 10/100\n",
            "Train - Accuracy: 98.1806411743164, Loss: 0.1743627056887705\n",
            "Test - Accuracy: 65.27958387516254, Loss: 0.35867767923907057\n",
            "\n",
            "Epoch 11/100\n",
            "Train - Accuracy: 98.87372589111328, Loss: 0.14162335315183416\n",
            "Test - Accuracy: 63.5890767230169, Loss: 0.2978923204929045\n",
            "\n",
            "Epoch 12/100\n",
            "Train - Accuracy: 98.78709411621094, Loss: 0.12186133917676259\n",
            "Test - Accuracy: 67.49024707412224, Loss: 0.2971033631020213\n",
            "\n",
            "Epoch 13/100\n",
            "Train - Accuracy: 98.91704559326172, Loss: 0.12091405312084172\n",
            "Test - Accuracy: 67.49024707412224, Loss: 0.166950608871571\n",
            "\n",
            "Epoch 14/100\n",
            "Train - Accuracy: 99.74009704589844, Loss: 0.06488071063099658\n",
            "Test - Accuracy: 68.66059817945384, Loss: 0.1000853035701056\n",
            "\n",
            "Epoch 15/100\n",
            "Train - Accuracy: 99.71843719482422, Loss: 0.0485050464431717\n",
            "Test - Accuracy: 70.15604681404422, Loss: 0.09342935298607774\n",
            "\n",
            "Epoch 16/100\n",
            "Train - Accuracy: 99.71843719482422, Loss: 0.052827064917512136\n",
            "Test - Accuracy: 65.99479843953186, Loss: 0.292003745697949\n",
            "\n",
            "Epoch 17/100\n",
            "Train - Accuracy: 97.46588897705078, Loss: 0.15715518825980898\n",
            "Test - Accuracy: 68.98569570871261, Loss: 0.39712277368629634\n",
            "\n",
            "Epoch 18/100\n",
            "Train - Accuracy: 98.28893280029297, Loss: 0.12846605209250972\n",
            "Test - Accuracy: 70.0260078023407, Loss: 0.17430548385193903\n",
            "\n",
            "Epoch 19/100\n",
            "Train - Accuracy: 99.5884780883789, Loss: 0.05263490187744164\n",
            "Test - Accuracy: 69.83094928478543, Loss: 0.22737779814035516\n",
            "\n",
            "Epoch 20/100\n",
            "Train - Accuracy: 99.11197662353516, Loss: 0.07579373050327987\n",
            "Test - Accuracy: 68.66059817945384, Loss: 0.1108961764927188\n",
            "\n",
            "Epoch 21/100\n",
            "Train - Accuracy: 99.91336822509766, Loss: 0.024470626669999673\n",
            "Test - Accuracy: 71.58647594278284, Loss: 0.06525462005950816\n",
            "\n",
            "Epoch 22/100\n",
            "Train - Accuracy: 99.82672882080078, Loss: 0.020405774521450065\n",
            "Test - Accuracy: 70.0260078023407, Loss: 0.0823443953190254\n",
            "\n",
            "Epoch 23/100\n",
            "Train - Accuracy: 99.37189483642578, Loss: 0.05358074863173374\n",
            "Test - Accuracy: 70.48114434330299, Loss: 0.24149129072791092\n",
            "\n",
            "Epoch 24/100\n",
            "Train - Accuracy: 99.0036849975586, Loss: 0.07641261197269371\n",
            "Test - Accuracy: 71.13133940182054, Loss: 0.10782425211461848\n",
            "\n",
            "Epoch 25/100\n",
            "Train - Accuracy: 100.0, Loss: 0.019251127931455225\n",
            "Test - Accuracy: 72.17165149544863, Loss: 0.12217929649281584\n",
            "\n",
            "Epoch 26/100\n",
            "Train - Accuracy: 99.5884780883789, Loss: 0.04318621961961258\n",
            "Test - Accuracy: 72.10663198959688, Loss: 0.07574813499766057\n",
            "\n",
            "Epoch 27/100\n",
            "Train - Accuracy: 99.93502807617188, Loss: 0.014945854267028913\n",
            "Test - Accuracy: 69.3107932379714, Loss: 0.12311339357944384\n",
            "\n",
            "Epoch 28/100\n",
            "Train - Accuracy: 96.96773529052734, Loss: 0.14790999682696715\n",
            "Test - Accuracy: 63.914174252275686, Loss: 0.17289443699362345\n",
            "\n",
            "Epoch 29/100\n",
            "Train - Accuracy: 99.89170837402344, Loss: 0.034194135502593155\n",
            "Test - Accuracy: 66.57997399219767, Loss: 0.1818147954875476\n",
            "\n",
            "Epoch 30/100\n",
            "Train - Accuracy: 96.70782470703125, Loss: 0.1572416408931556\n",
            "Test - Accuracy: 65.34460338101431, Loss: 0.1928980247921323\n",
            "\n",
            "Epoch 31/100\n",
            "Train - Accuracy: 98.78709411621094, Loss: 0.08190643014258718\n",
            "Test - Accuracy: 68.14044213263979, Loss: 0.30002172804144145\n",
            "\n",
            "Epoch 32/100\n",
            "Train - Accuracy: 97.57418823242188, Loss: 0.12396316929426912\n",
            "Test - Accuracy: 66.71001300390117, Loss: 0.14484287793301556\n",
            "\n",
            "Epoch 33/100\n",
            "Train - Accuracy: 99.848388671875, Loss: 0.024642223300897097\n",
            "Test - Accuracy: 72.88686605981795, Loss: 0.10480039182744205\n",
            "\n",
            "Epoch 34/100\n",
            "Train - Accuracy: 99.45852661132812, Loss: 0.03369526280575011\n",
            "Test - Accuracy: 71.84655396618986, Loss: 0.04772363313512035\n",
            "\n",
            "Epoch 35/100\n",
            "Train - Accuracy: 100.0, Loss: 0.007268694270886991\n",
            "Test - Accuracy: 72.69180754226268, Loss: 0.013681342649873193\n",
            "\n",
            "Epoch 36/100\n",
            "Train - Accuracy: 99.97834777832031, Loss: 0.004975456057103631\n",
            "Test - Accuracy: 73.27698309492848, Loss: 0.005668039113117305\n",
            "\n",
            "Epoch 37/100\n",
            "Train - Accuracy: 100.0, Loss: 0.0034979031427623064\n",
            "Test - Accuracy: 73.5370611183355, Loss: 0.009707815355098206\n",
            "\n",
            "Epoch 38/100\n",
            "Train - Accuracy: 100.0, Loss: 0.002492286612547628\n",
            "Test - Accuracy: 73.14694408322497, Loss: 0.005700962072595545\n",
            "\n",
            "Epoch 39/100\n",
            "Train - Accuracy: 100.0, Loss: 0.002307514306030249\n",
            "Test - Accuracy: 74.1222366710013, Loss: 0.006584970130623408\n",
            "\n",
            "Epoch 40/100\n",
            "Train - Accuracy: 100.0, Loss: 0.0027916974209453143\n",
            "Test - Accuracy: 73.66710013003902, Loss: 0.012737279075312696\n",
            "\n",
            "Epoch 41/100\n",
            "Train - Accuracy: 100.0, Loss: 0.0026265942261949793\n",
            "Test - Accuracy: 72.04161248374513, Loss: 0.006803771168350765\n",
            "\n",
            "Epoch 42/100\n",
            "Train - Accuracy: 100.0, Loss: 0.0017012774853405784\n",
            "Test - Accuracy: 73.47204161248375, Loss: 0.00322056489227952\n",
            "\n",
            "Epoch 43/100\n",
            "Train - Accuracy: 100.0, Loss: 0.0016068364812494957\n",
            "Test - Accuracy: 73.40702210663198, Loss: 0.007175666420427087\n",
            "\n",
            "Epoch 44/100\n",
            "Train - Accuracy: 100.0, Loss: 0.0017534257207793018\n",
            "Test - Accuracy: 73.34200260078023, Loss: 0.008426857816393499\n",
            "\n",
            "Epoch 45/100\n",
            "Train - Accuracy: 100.0, Loss: 0.0016581366031609272\n",
            "Test - Accuracy: 72.2366710013004, Loss: 0.002155620736318755\n",
            "\n",
            "Epoch 46/100\n",
            "Train - Accuracy: 100.0, Loss: 0.001956687854245713\n",
            "Test - Accuracy: 73.14694408322497, Loss: 0.022913461522365064\n",
            "\n",
            "Epoch 47/100\n",
            "Train - Accuracy: 99.87004852294922, Loss: 0.008334647079495943\n",
            "Test - Accuracy: 71.65149544863459, Loss: 0.009756211159521178\n",
            "\n",
            "Epoch 48/100\n",
            "Train - Accuracy: 99.65345764160156, Loss: 0.03007422640205246\n",
            "Test - Accuracy: 55.20156046814044, Loss: 0.32763945390406535\n",
            "\n",
            "Epoch 49/100\n",
            "Train - Accuracy: 79.3155746459961, Loss: 0.6930042573646323\n",
            "Test - Accuracy: 55.786736020806245, Loss: 1.0464002778881216\n",
            "\n",
            "Epoch 50/100\n",
            "Train - Accuracy: 89.64695739746094, Loss: 0.3525890346667538\n",
            "Test - Accuracy: 64.04421326397919, Loss: 0.39693222654192417\n",
            "\n",
            "Epoch 51/100\n",
            "Train - Accuracy: 98.22396087646484, Loss: 0.07896283429677356\n",
            "Test - Accuracy: 70.87126137841352, Loss: 0.11328846029937267\n",
            "\n",
            "Epoch 52/100\n",
            "Train - Accuracy: 99.61013793945312, Loss: 0.024376151694163475\n",
            "Test - Accuracy: 71.78153446033811, Loss: 0.04258950038698234\n",
            "\n",
            "Epoch 53/100\n",
            "Train - Accuracy: 99.97834777832031, Loss: 0.009719438885963739\n",
            "Test - Accuracy: 72.75682704811443, Loss: 0.04543569279286041\n",
            "\n",
            "Epoch 54/100\n",
            "Train - Accuracy: 99.848388671875, Loss: 0.013218623378684055\n",
            "Test - Accuracy: 73.47204161248375, Loss: 0.029111002670754105\n",
            "\n",
            "Epoch 55/100\n",
            "Train - Accuracy: 99.97834777832031, Loss: 0.005348447534855302\n",
            "Test - Accuracy: 74.7074122236671, Loss: 0.008146756752840665\n",
            "\n",
            "Epoch 56/100\n",
            "Train - Accuracy: 99.97834777832031, Loss: 0.004375489441397255\n",
            "Test - Accuracy: 73.99219765929779, Loss: 0.03483635384895622\n",
            "\n",
            "Epoch 57/100\n",
            "Train - Accuracy: 99.67511749267578, Loss: 0.017398135041282195\n",
            "Test - Accuracy: 74.31729518855657, Loss: 0.022624519583450197\n",
            "\n",
            "Epoch 58/100\n",
            "Train - Accuracy: 100.0, Loss: 0.0033392598900357133\n",
            "Test - Accuracy: 74.7074122236671, Loss: 0.005596577698581737\n",
            "\n",
            "Epoch 59/100\n",
            "Train - Accuracy: 100.0, Loss: 0.004053787878484861\n",
            "Test - Accuracy: 74.64239271781534, Loss: 0.047787828449070556\n",
            "\n",
            "Epoch 60/100\n",
            "Train - Accuracy: 99.69676971435547, Loss: 0.020544501605175743\n",
            "Test - Accuracy: 73.27698309492848, Loss: 0.07792860799953852\n",
            "\n",
            "Epoch 61/100\n",
            "Train - Accuracy: 99.82672882080078, Loss: 0.018756460344214756\n",
            "Test - Accuracy: 72.62678803641093, Loss: 0.02359477903579094\n",
            "\n",
            "Epoch 62/100\n",
            "Train - Accuracy: 100.0, Loss: 0.0034643391144066438\n",
            "Test - Accuracy: 73.5370611183355, Loss: 0.005331510108614927\n",
            "\n",
            "Epoch 63/100\n",
            "Train - Accuracy: 100.0, Loss: 0.0018760808600010734\n",
            "Test - Accuracy: 74.1222366710013, Loss: 0.003354834046610312\n",
            "\n",
            "Epoch 64/100\n",
            "Train - Accuracy: 100.0, Loss: 0.002535267718684898\n",
            "Test - Accuracy: 74.83745123537061, Loss: 0.02923634461899071\n",
            "\n",
            "Epoch 65/100\n",
            "Train - Accuracy: 99.52350616455078, Loss: 0.022212031420179936\n",
            "Test - Accuracy: 72.04161248374513, Loss: 0.03242365876372189\n",
            "\n",
            "Epoch 66/100\n",
            "Train - Accuracy: 99.87004852294922, Loss: 0.011321028774246981\n",
            "Test - Accuracy: 71.06631989596879, Loss: 0.013429872076065368\n",
            "\n",
            "Epoch 67/100\n",
            "Train - Accuracy: 100.0, Loss: 0.004284083503553618\n",
            "Test - Accuracy: 73.21196358907672, Loss: 0.007278651412104397\n",
            "\n",
            "Epoch 68/100\n",
            "Train - Accuracy: 100.0, Loss: 0.0016901201093314242\n",
            "Test - Accuracy: 74.2522756827048, Loss: 0.006273802132218158\n",
            "\n",
            "Epoch 69/100\n",
            "Train - Accuracy: 99.76175689697266, Loss: 0.014721124988744571\n",
            "Test - Accuracy: 70.35110533159948, Loss: 0.07593092080668151\n",
            "\n",
            "Epoch 70/100\n",
            "Train - Accuracy: 98.02902221679688, Loss: 0.08622198007133318\n",
            "Test - Accuracy: 63.263979193758125, Loss: 0.10705493759261826\n",
            "\n",
            "Epoch 71/100\n",
            "Train - Accuracy: 97.50920867919922, Loss: 0.09567541251443837\n",
            "Test - Accuracy: 60.72821846553966, Loss: 0.2537175363873782\n",
            "\n",
            "Epoch 72/100\n",
            "Train - Accuracy: 96.12303161621094, Loss: 0.1374523923923708\n",
            "Test - Accuracy: 67.1001300390117, Loss: 0.17723519105004937\n",
            "\n",
            "Epoch 73/100\n",
            "Train - Accuracy: 99.02534484863281, Loss: 0.04953377406202154\n",
            "Test - Accuracy: 72.75682704811443, Loss: 0.17238135562495213\n",
            "\n",
            "Epoch 74/100\n",
            "Train - Accuracy: 98.96036529541016, Loss: 0.05468985902732366\n",
            "Test - Accuracy: 71.39141742522757, Loss: 0.10387969440589212\n",
            "\n",
            "Epoch 75/100\n",
            "Train - Accuracy: 99.4368667602539, Loss: 0.03527707264962772\n",
            "Test - Accuracy: 70.28608582574772, Loss: 0.07119508419657918\n",
            "\n",
            "Epoch 76/100\n",
            "Train - Accuracy: 98.80875396728516, Loss: 0.055707731214033\n",
            "Test - Accuracy: 69.37581274382315, Loss: 0.07686945070729476\n",
            "\n",
            "Epoch 77/100\n",
            "Train - Accuracy: 99.545166015625, Loss: 0.024956550873331214\n",
            "Test - Accuracy: 72.17165149544863, Loss: 0.03633721449973751\n",
            "\n",
            "Epoch 78/100\n",
            "Train - Accuracy: 99.89170837402344, Loss: 0.007617105225943131\n",
            "Test - Accuracy: 72.17165149544863, Loss: 0.021603321088860705\n",
            "\n",
            "Epoch 79/100\n",
            "Train - Accuracy: 99.848388671875, Loss: 0.008773552524946528\n",
            "Test - Accuracy: 73.21196358907672, Loss: 0.009765770519152284\n",
            "\n"
          ]
        }
      ]
    },
    {
      "cell_type": "code",
      "source": [
        "info_to_plot([acc_history, loss_history], epoch)"
      ],
      "metadata": {
        "colab": {
          "base_uri": "https://localhost:8080/",
          "height": 527
        },
        "id": "8g-mn6NqLx8P",
        "outputId": "bf21333b-49a9-4b34-8c80-1ea1f3419a98"
      },
      "execution_count": null,
      "outputs": [
        {
          "output_type": "display_data",
          "data": {
            "text/plain": [
              "<Figure size 1000x500 with 2 Axes>"
            ],
            "image/png": "[encoded data removed]"
          },
          "metadata": {}
        }
      ]
    },
    {
      "cell_type": "code",
      "source": [
        "def info_to_plot(result, epoch):\n",
        "    train_accs = result[0]['train']\n",
        "    train_total_losses = result[1]['train']\n",
        "\n",
        "    test_accs = result[0]['test']\n",
        "    test_total_losses = result[1]['test']\n",
        "\n",
        "    train_accs = np.array([item.item() if hasattr(item, 'item') else item for item in train_accs])\n",
        "    train_total_losses = np.array([item.item() if hasattr(item, 'item') else item for item in train_total_losses])\n",
        "\n",
        "    test_accs = np.array([item.item() if hasattr(item, 'item') else item for item in test_accs])\n",
        "    test_total_losses = np.array([item.item() if hasattr(item, 'item') else item for item in test_total_losses])\n",
        "\n",
        "    plotter(train_accs, train_total_losses, test_accs, test_total_losses, epoch)"
      ],
      "metadata": {
        "id": "zP3rtNNSLZJy"
      },
      "execution_count": null,
      "outputs": []
    },
    {
      "cell_type": "code",
      "source": [
        "def plotter(train_accs, train_total_losses, test_accs, test_total_losses, epoch):\n",
        "    fig, axs = plt.subplots(1, 2, figsize=(10, 5))  # Adjusted figsize for clarity\n",
        "    ranges = [i for i in range(1 , epoch+2)]\n",
        "\n",
        "\n",
        "\n",
        "    axs[0].plot(ranges, train_accs, color='red', label='Train')\n",
        "    axs[0].plot(ranges, test_accs, color='green', label='Test')\n",
        "    axs[0].set_title('Accuracy')\n",
        "    axs[0].set_xlabel('Epoch')\n",
        "    axs[0].set_ylabel('Accuracy')\n",
        "    axs[0].legend()\n",
        "\n",
        "    axs[1].plot(ranges, train_total_losses, color='red', label='Train')\n",
        "    axs[1].plot(ranges, test_total_losses, color='green', label='Test')\n",
        "    axs[1].set_title('Total Loss')\n",
        "    axs[1].set_xlabel('Epoch')\n",
        "    axs[1].set_ylabel('Total Loss')\n",
        "    axs[1].legend()\n",
        "\n",
        "    plt.tight_layout()\n",
        "    plt.savefig('accuracy_and_loss_plot.png', dpi=100)  # Adjusted filename\n"
      ],
      "metadata": {
        "id": "aSVUhA2zLful"
      },
      "execution_count": null,
      "outputs": []
    },
    {
      "cell_type": "code",
      "source": [
        "model_checkpoint_path = '/content/drive/MyDrive/CAI/Phase 4/saved_models/model_best_accuracy.pt'\n",
        "checkpoint = torch.load(model_checkpoint_path)\n",
        "\n",
        "epoch_num = checkpoint['epoch']\n",
        "accuracy = checkpoint['accuracy']\n",
        "\n",
        "\n",
        "print(\"Epoch Number:\", epoch_num)\n",
        "print(\"Test Accuracy: \", accuracy)\n"
      ],
      "metadata": {
        "colab": {
          "base_uri": "https://localhost:8080/"
        },
        "id": "QKQIXKyTMXBz",
        "outputId": "0c00056b-28bc-4199-d040-0458db07bc56"
      },
      "execution_count": null,
      "outputs": [
        {
          "output_type": "stream",
          "name": "stdout",
          "text": [
            "Epoch Number: 64\n",
            "Test Accuracy:  74.83745123537061\n"
          ]
        }
      ]
    }
  ]
}